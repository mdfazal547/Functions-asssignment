{
  "nbformat": 4,
  "nbformat_minor": 0,
  "metadata": {
    "colab": {
      "provenance": []
    },
    "kernelspec": {
      "name": "python3",
      "display_name": "Python 3"
    },
    "language_info": {
      "name": "python"
    }
  },
  "cells": [
    {
      "cell_type": "markdown",
      "source": [
        "#Q1. What is the difference between a function and a method in Python?"
      ],
      "metadata": {
        "id": "ZAA2Q8hPNwz5"
      }
    },
    {
      "cell_type": "markdown",
      "source": [
        "**Function**\n",
        "\n",
        ".A function in Python is a block of reusable code that performs a specific task. It is defined using the def keyword and can be called by its name, optionally passing arguments.\n",
        "\n",
        ".Example\n",
        "        \n",
        "        def add(a, b):\n",
        "        \n",
        "    return a + b\n",
        "\n",
        ".**Method**\n",
        "\n",
        "A method is a function that is defined inside a class and is used to operate on the objects of that class. It always takes self as the first parameter (which refers to the instance of the class)\n",
        "\n",
        ".Example\n",
        "\n",
        "class Calculator:\n",
        "\n",
        "    def add(self, a, b):\n",
        "\n",
        "        return a + b\n"
      ],
      "metadata": {
        "id": "A4luh2hiOb8z"
      }
    },
    {
      "cell_type": "markdown",
      "source": [
        "# Q2. Explain the concept of function arguments and parameters in Python."
      ],
      "metadata": {
        "id": "t_FH2uUUPS7z"
      }
    },
    {
      "cell_type": "markdown",
      "source": [
        ".**Parameters**\n",
        "\n",
        ".Parameters are the placeholders (or variables) that you define in a function\n",
        "\n",
        ".Parameters are named variables in the function definition.\n",
        "\n",
        ".Example:\n",
        "\n",
        ".def greet(name):  # 'name' is a parameter\n",
        "\n",
        "    print(f\"Hello, {name}!\")\n",
        "\n",
        ".**Arguments  **  \n",
        "\n",
        "Arguments are the actual values you pass to the function when you call it.\n",
        "\n",
        ".Arguments are the real values you provide when you call the function.\n",
        "\n",
        "They are passed to the function and used to replace the parameters.\n",
        "\n",
        ".Example\n",
        "\n",
        "greet(\"Alice\")  # \"Alice\" is an argument\n",
        "\n",
        "\n"
      ],
      "metadata": {
        "id": "hsIKaioZPbWE"
      }
    },
    {
      "cell_type": "markdown",
      "source": [
        "# Q3.What are the different ways to define and call a function in Python?"
      ],
      "metadata": {
        "id": "36el3Pb0Rn8O"
      }
    },
    {
      "cell_type": "markdown",
      "source": [
        "**Standard Function**\n",
        "\n",
        ".A standard function is a block of reusable code defined using the def keyword without any parameters\n",
        "\n",
        ".def greet():\n",
        "\n",
        "    print(\"Hello!\")\n",
        "\n",
        ".**Call:**  \n",
        "\n",
        "greet()\n",
        "\n",
        " **Function with Parameters**\n",
        "\n",
        " .A function that accepts input values (called parameters) to perform operations using those values.\n",
        "\n",
        " **Example:**\n",
        "\n",
        " def greet(name):\n",
        "\n",
        "    print(f\"Hello, {name}!\")\n",
        "\n",
        ".**Call: **\n",
        "\n",
        ".greet(\"Alice\")\n",
        "\n",
        "\n",
        ". **Function with Default Parameters**\n",
        "\n",
        ".A function that assigns default values to parameters so it can be called with or without arguments.\n",
        "\n",
        ".**Example:**\n",
        "\n",
        ".def greet(name=\"Guest\"):\n",
        "\n",
        "    print(f\"Hello, {name}!\")\n",
        "\n",
        ".  **Call:  **\n",
        "\n",
        "greet()        # Hello, Guest!\n",
        "\n",
        "greet(\"Bob\")   # Hello, Bob!\n",
        "\n",
        "\n",
        "\n",
        "\n",
        "\n"
      ],
      "metadata": {
        "id": "8tJy-dkhR0zZ"
      }
    },
    {
      "cell_type": "markdown",
      "source": [
        "# Q4.. What is the purpose of the `return` statement in a Python function?"
      ],
      "metadata": {
        "id": "DeyJsdv3Tt8T"
      }
    },
    {
      "cell_type": "markdown",
      "source": [
        "The return statement is used to exit a function and send back a value to the place where the function was called.\n",
        "\n",
        "**1.Give Back a Result**\n",
        "\n",
        ".It allows the function to return a result (like a number, string, list, etc.) that you can use later\n",
        "\n",
        "**2.Exit the Function Early**\n",
        "\n",
        ".As soon as Python sees return, it stops running the function and jumps back to the caller\n",
        "\n",
        "**3.Pass Data Between Functions**\n",
        "\n",
        ".You can use return to pass the result of one function to another.\n",
        "\n",
        ".Example\n",
        "\n",
        "def add(a, b):\n",
        "\n",
        "    print(a + b)\n",
        "\n",
        "result = add(3, 4)\n",
        "\n",
        "print(result)  # Output: 7 (from print), then None (because no return)\n"
      ],
      "metadata": {
        "id": "CI8xexjGT0Up"
      }
    },
    {
      "cell_type": "markdown",
      "source": [
        "# Q5.. What are iterators in Python and how do they differ from iterables?"
      ],
      "metadata": {
        "id": "CnThWJm8Uroe"
      }
    },
    {
      "cell_type": "markdown",
      "source": [
        "**Iterable**\n",
        "\n",
        ".An iterable is any Python object that can return an iterator using the iter() function\n",
        "\n",
        "**Example:**\n",
        "\n",
        ".Lists: [1, 2, 3]\n",
        "\n",
        "Tuples: (4, 5, 6)\n",
        "\n",
        "Strings: \"hello\"\n",
        "\n",
        "Dictionaries\n",
        "\n",
        "Sets\n",
        "\n",
        ".my_list = [1, 2, 3]\n",
        "\n",
        "for item in my_list:\n",
        "\n",
        "    print(item)  # works because lists are iterable\n",
        "\n",
        ".**Iterator **\n",
        "\n",
        ".An iterator is an object that represents a stream of data, and it remembers where it is in the sequence.\n",
        "\n",
        ".You can get the next item using the next() function, and it knows when to stop (raises StopIteration).\n",
        "\n",
        "**Example:**\n",
        "\n",
        ".my_list = [1, 2, 3]\n",
        "\n",
        "iterator = iter(my_list)  # Get an iterator from the list\n",
        "\n",
        "print(next(iterator))  # 1\n",
        "\n",
        "print(next(iterator))  # 2\n",
        "\n",
        "print(next(iterator))  # 3\n",
        "\n",
        "# print(next(iterator))  # Error: StopIteration\n",
        "\n"
      ],
      "metadata": {
        "id": "A2zUWxBJVQBW"
      }
    },
    {
      "cell_type": "markdown",
      "source": [
        "# Q6.Explain the concept of generators in Python and how they are defined."
      ],
      "metadata": {
        "id": "R2fUUfgrwAGE"
      }
    },
    {
      "cell_type": "markdown",
      "source": [
        ".A generator is a special type of iterator that yields values one at a time using the yield keyword instead of returning all values at once like a list.\n",
        "\n",
        "When a generator function is called, it doesn't run immediately. Instead, it returns a generator object that can be used to fetch the values one by one.\n",
        "\n",
        "\n",
        ".**Example:**\n",
        "\n",
        ".def count_up_to(max):\n",
        "\n",
        "    count = 1\n",
        "\n",
        "    while count <= max:\n",
        "\n",
        "        yield count\n",
        "        count += 1\n"
      ],
      "metadata": {
        "id": "_zLtFwphwd7r"
      }
    },
    {
      "cell_type": "markdown",
      "source": [
        "# Q7. What are the advantages of using generators over regular functions?"
      ],
      "metadata": {
        "id": "h7ixHxP3w8Gb"
      }
    },
    {
      "cell_type": "markdown",
      "source": [
        "**1.Memory Efficiency**\n",
        "\n",
        ".Regular functions that return a list or any collection store all values in memory. This can be a problem if the list is huge.\n",
        "\n",
        "Generators yield one item at a time, which means:\n",
        "\n",
        "Only one value is in memory at a time.\n",
        "\n",
        "You can work with large datasets without using a lot of memory.\n",
        "\n",
        ".**Example**\n",
        "\n",
        ".def get_numbers_list(n):\n",
        "\n",
        "    return [i for i in range(n)]  # Loads all into memory\n",
        "\n",
        "def get_numbers_gen(n):\n",
        "\n",
        "    for i in range(n):\n",
        "\n",
        "        yield i  # Yields one at a time\n",
        "\n",
        "**2.Lazy Evaluation (On-Demand Execution)**\n",
        "\n",
        ".Generators compute values only when needed, not all at once. This is called lazy evaluation.\n",
        "\n",
        "With regular functions, all results are computed immediately.\n",
        "\n",
        "With generators, results are generated as you loop through them.\n",
        "\n",
        "\n",
        ".**Example**\n",
        "\n",
        ".gen = (x * x for x in range(5))\n",
        "\n",
        "print(next(gen))  # Only computes the first square\n",
        "\n",
        "        \n"
      ],
      "metadata": {
        "id": "u8HDG_9Ix0fo"
      }
    },
    {
      "cell_type": "markdown",
      "source": [
        "# Q8.. What is a lambda function in Python and when is it typically used?"
      ],
      "metadata": {
        "id": "Ag6b6gZlyfOV"
      }
    },
    {
      "cell_type": "markdown",
      "source": [
        "A lambda function in Python is a small, anonymous (nameless) function defined using the lambda keyword.\n",
        "\n",
        "It's used when you need a simple function for a short period, often just once, usually as an argument to another function like map(), filter(), or sorted().\n",
        "\n",
        "**Example**\n",
        "\n",
        ".square = lambda x: x * x\n",
        "\n",
        "print(square(5))  # Output: 25\n",
        "\n",
        ".**When is a Lambda Function Used?**\n",
        "\n",
        ".Lambda functions are typically used when you need a function:\n",
        "\n",
        "For a short time\n",
        "\n",
        "That is very simple (one-line logic)\n",
        "\n",
        "And you don’t want to write a full def function\n",
        "\n",
        "They’re often used with functions like:\n",
        "\n"
      ],
      "metadata": {
        "id": "pH7Z2FI7yj95"
      }
    },
    {
      "cell_type": "markdown",
      "source": [
        "# Q9. Explain the purpose and usage of the `map()` function in Python"
      ],
      "metadata": {
        "id": "oTxKcV2RzBnq"
      }
    },
    {
      "cell_type": "markdown",
      "source": [
        "The map() function in Python is used to apply a function to every item in a given iterable (like a list, tuple, etc.) and returns a new map object (which is an iterator) with the results.\n",
        "\n",
        "It’s very useful when you want to transform or modify all elements of a collection without writing a loop.\n",
        "\n",
        ".**Example**\n",
        "\n",
        ".def square(x):\n",
        "\n",
        "    return x * x\n",
        "\n",
        "numbers = [1, 2, 3, 4]\n",
        "\n",
        "squared = map(square, numbers)\n",
        "\n",
        "print(list(squared))  # Output: [1, 4, 9, 16]\n"
      ],
      "metadata": {
        "id": "mvK7ac8-zG7p"
      }
    },
    {
      "cell_type": "markdown",
      "source": [
        "# Q10. What is the difference between `map()`, `reduce()`, and `filter()` functions in Python?"
      ],
      "metadata": {
        "id": "JAo81w_szWnk"
      }
    },
    {
      "cell_type": "markdown",
      "source": [
        "# 1. Map()\n",
        "\n",
        ".To apply a function to each item in an iterable and return a new iterable (map object) with the transformed values.\n",
        "\n",
        "**Example:**\n",
        "\n",
        ".numbers = [1, 2, 3, 4]\n",
        "\n",
        "result = map(lambda x: x * 2, numbers)\n",
        "\n",
        "print(list(result))  # [2, 4, 6, 8]\n",
        "\n",
        "# 2.filter()\n",
        "\n",
        ".To filter out elements from an iterable based on a condition. Only items for which the function returns True are kept.\n",
        "\n",
        "**Example:**\n",
        "\n",
        ".numbers = [1, 2, 3, 4, 5]\n",
        "\n",
        "result = filter(lambda x: x % 2 == 0, numbers)\n",
        "\n",
        "print(list(result))  # [2, 4]\n",
        "\n",
        "# 3.reduce()\n",
        "\n",
        ".reduce() is not built-in like map() or filter(). You need to import it from the functools module.\n",
        "\n",
        ".To reduce an iterable to a single value by applying a function cumulatively (i.e., combining elements one by one).\n",
        "\n",
        "from functools import reduce\n",
        "\n",
        "numbers = [1, 2, 3, 4]\n",
        "\n",
        "result = reduce(lambda x, y: x + y, numbers)\n",
        "\n",
        "print(result)  # 10\n",
        "\n",
        "\n"
      ],
      "metadata": {
        "id": "-P_vBNfvzgdG"
      }
    },
    {
      "cell_type": "markdown",
      "source": [],
      "metadata": {
        "id": "4klHcxWw0olc"
      }
    },
    {
      "cell_type": "markdown",
      "source": [
        "# Practical Questions:"
      ],
      "metadata": {
        "id": "ToqeQDv7Hg4X"
      }
    },
    {
      "cell_type": "markdown",
      "source": [
        "# Q1. Write a Python function that takes a list of numbers as input and returns the sum of all even numbers in the list"
      ],
      "metadata": {
        "id": "5ZaKnVDYHmjK"
      }
    },
    {
      "cell_type": "code",
      "execution_count": null,
      "metadata": {
        "id": "BLFodesPNmwp"
      },
      "outputs": [],
      "source": [
        "def sum_of_even_numbers(numbers):\n",
        "    even_sum = 0\n",
        "    for num in numbers:\n",
        "        if num % 2 == 0:\n",
        "            even_sum += num\n",
        "    return even_sum\n"
      ]
    },
    {
      "cell_type": "code",
      "source": [
        "my_list = [1, 2, 3, 4, 5, 6]\n",
        "result = sum_of_even_numbers(my_list)\n",
        "print(\"Sum of even numbers:\", result)\n"
      ],
      "metadata": {
        "colab": {
          "base_uri": "https://localhost:8080/"
        },
        "id": "LaqESgqWIQos",
        "outputId": "8a5e23bd-395c-4968-b451-73291e582434"
      },
      "execution_count": null,
      "outputs": [
        {
          "output_type": "stream",
          "name": "stdout",
          "text": [
            "Sum of even numbers: 12\n"
          ]
        }
      ]
    },
    {
      "cell_type": "markdown",
      "source": [
        "# Q2. Create a Python function that accepts a string and returns the reverse of that string"
      ],
      "metadata": {
        "id": "CHE8HSMnIsCs"
      }
    },
    {
      "cell_type": "code",
      "source": [
        "def reverse_string(s):\n",
        "    return s[::-1]\n",
        "\n",
        "# Example usage:\n",
        "input_str = \"hello\"\n",
        "reversed_str = reverse_string(input_str)\n",
        "print(\"Reversed string:\", reversed_str)\n"
      ],
      "metadata": {
        "id": "SQAa0nVVIoFa",
        "colab": {
          "base_uri": "https://localhost:8080/"
        },
        "outputId": "b0840048-a4bd-46bd-eaa8-eadde1bdad15"
      },
      "execution_count": 1,
      "outputs": [
        {
          "output_type": "stream",
          "name": "stdout",
          "text": [
            "Reversed string: olleh\n"
          ]
        }
      ]
    },
    {
      "cell_type": "markdown",
      "source": [
        "# Q3. Implement a Python function that takes a list of integers and returns a new list containing the squares of each number"
      ],
      "metadata": {
        "id": "4pY4plxHs4Yb"
      }
    },
    {
      "cell_type": "code",
      "source": [
        "def square_numbers(numbers):\n",
        "    return [x ** 2 for x in numbers]\n",
        "\n",
        "# Example usage:\n",
        "input_list = [1, 2, 3, 4, 5]\n",
        "squared_list = square_numbers(input_list)\n",
        "print(\"Squared list:\", squared_list)\n"
      ],
      "metadata": {
        "colab": {
          "base_uri": "https://localhost:8080/"
        },
        "id": "kJJ38P8MszRF",
        "outputId": "52c71f40-2395-427b-9595-842eb4762b8f"
      },
      "execution_count": 2,
      "outputs": [
        {
          "output_type": "stream",
          "name": "stdout",
          "text": [
            "Squared list: [1, 4, 9, 16, 25]\n"
          ]
        }
      ]
    },
    {
      "cell_type": "markdown",
      "source": [
        "# Q4.. Write a Python function that checks if a given number is prime or not from 1 to 200."
      ],
      "metadata": {
        "id": "tqVQ05uAtSh0"
      }
    },
    {
      "cell_type": "code",
      "source": [
        "def is_prime(n):\n",
        "    if n < 2:\n",
        "        return False  # 0 and 1 are not prime numbers\n",
        "    for i in range(2, int(n**0.5) + 1):  # Check up to square root of n\n",
        "        if n % i == 0:\n",
        "            return False  # Found a divisor, not prime\n",
        "    return True  # No divisors found, it's prime\n",
        "\n",
        "# Example usage:\n",
        "for number in range(1, 201):\n",
        "    if is_prime(number):\n",
        "        print(f\"{number} is a prime number.\")\n"
      ],
      "metadata": {
        "colab": {
          "base_uri": "https://localhost:8080/"
        },
        "id": "t1kQTTiItQuc",
        "outputId": "3736df4d-96b5-4b84-8e24-8e2d1eb82f0d"
      },
      "execution_count": 4,
      "outputs": [
        {
          "output_type": "stream",
          "name": "stdout",
          "text": [
            "2 is a prime number.\n",
            "3 is a prime number.\n",
            "5 is a prime number.\n",
            "7 is a prime number.\n",
            "11 is a prime number.\n",
            "13 is a prime number.\n",
            "17 is a prime number.\n",
            "19 is a prime number.\n",
            "23 is a prime number.\n",
            "29 is a prime number.\n",
            "31 is a prime number.\n",
            "37 is a prime number.\n",
            "41 is a prime number.\n",
            "43 is a prime number.\n",
            "47 is a prime number.\n",
            "53 is a prime number.\n",
            "59 is a prime number.\n",
            "61 is a prime number.\n",
            "67 is a prime number.\n",
            "71 is a prime number.\n",
            "73 is a prime number.\n",
            "79 is a prime number.\n",
            "83 is a prime number.\n",
            "89 is a prime number.\n",
            "97 is a prime number.\n",
            "101 is a prime number.\n",
            "103 is a prime number.\n",
            "107 is a prime number.\n",
            "109 is a prime number.\n",
            "113 is a prime number.\n",
            "127 is a prime number.\n",
            "131 is a prime number.\n",
            "137 is a prime number.\n",
            "139 is a prime number.\n",
            "149 is a prime number.\n",
            "151 is a prime number.\n",
            "157 is a prime number.\n",
            "163 is a prime number.\n",
            "167 is a prime number.\n",
            "173 is a prime number.\n",
            "179 is a prime number.\n",
            "181 is a prime number.\n",
            "191 is a prime number.\n",
            "193 is a prime number.\n",
            "197 is a prime number.\n",
            "199 is a prime number.\n"
          ]
        }
      ]
    },
    {
      "cell_type": "markdown",
      "source": [
        "# Q5. Create an iterator class in Python that generates the Fibonacci sequence up to a specified number of terms ."
      ],
      "metadata": {
        "id": "DOJndvZgtn1F"
      }
    },
    {
      "cell_type": "code",
      "source": [
        "class FibonacciIterator:\n",
        "    def __init__(self, max_terms):\n",
        "        self.max_terms = max_terms  # Total number of Fibonacci numbers to generate\n",
        "        self.count = 0              # How many terms we've generated so far\n",
        "        self.a = 0                  # First Fibonacci number\n",
        "        self.b = 1                  # Second Fibonacci number\n",
        "\n",
        "    def __iter__(self):\n",
        "        return self  # The object itself is the iterator\n",
        "\n",
        "    def __next__(self):\n",
        "        if self.count >= self.max_terms:\n",
        "            raise StopIteration  # Stop when we've reached the desired number of terms\n",
        "\n",
        "        if self.count == 0:\n",
        "            self.count += 1\n",
        "            return self.a\n",
        "        elif self.count == 1:\n",
        "            self.count += 1\n",
        "            return self.b\n",
        "\n",
        "        # Generate the next Fibonacci number\n",
        "        next_value = self.a + self.b\n",
        "        self.a = self.b\n",
        "        self.b = next_value\n",
        "        self.count += 1\n",
        "        return next_value\n",
        "\n",
        "# Example usage:\n",
        "fib = FibonacciIterator(10)  # Generate first 10 Fibonacci numbers\n",
        "for num in fib:\n",
        "    print(num)\n"
      ],
      "metadata": {
        "colab": {
          "base_uri": "https://localhost:8080/"
        },
        "id": "H8c4MoZPtm0p",
        "outputId": "3789f209-44b0-4395-ba06-2f99bd998da4"
      },
      "execution_count": 5,
      "outputs": [
        {
          "output_type": "stream",
          "name": "stdout",
          "text": [
            "0\n",
            "1\n",
            "1\n",
            "2\n",
            "3\n",
            "5\n",
            "8\n",
            "13\n",
            "21\n",
            "34\n"
          ]
        }
      ]
    },
    {
      "cell_type": "markdown",
      "source": [
        "# Q6. Write a generator function in Python that yields the powers of 2 up to a given exponent"
      ],
      "metadata": {
        "id": "cM3xinlmuEUA"
      }
    },
    {
      "cell_type": "code",
      "source": [
        "def powers_of_two(max_exp):\n",
        "    for i in range(max_exp + 1):\n",
        "        yield 2 ** i\n",
        "\n",
        "# Example usage:\n",
        "for value in powers_of_two(5):\n",
        "    print(value)\n"
      ],
      "metadata": {
        "colab": {
          "base_uri": "https://localhost:8080/"
        },
        "id": "oKJFXozDuDRI",
        "outputId": "b241f46d-8afb-4685-8454-4e9bd1c2a8bb"
      },
      "execution_count": 6,
      "outputs": [
        {
          "output_type": "stream",
          "name": "stdout",
          "text": [
            "1\n",
            "2\n",
            "4\n",
            "8\n",
            "16\n",
            "32\n"
          ]
        }
      ]
    },
    {
      "cell_type": "markdown",
      "source": [
        "# Q7.. Implement a generator function that reads a file line by line and yields each line as a string."
      ],
      "metadata": {
        "id": "marrNqtpuV_A"
      }
    },
    {
      "cell_type": "code",
      "source": [
        "# Create a dummy file for the example usage\n",
        "# This ensures the file exists when the read_file_line_by_line function is called\n",
        "file_content = \"\"\"This is the first line.\n",
        "This is the second line.\n",
        "And a third one.\n",
        "\"\"\"\n",
        "with open(\"example.txt\", \"w\") as f:\n",
        "    f.write(file_content)\n",
        "\n",
        "def read_file_line_by_line(file_path):\n",
        "    with open(file_path, 'r') as file:\n",
        "        for line in file:\n",
        "            yield line.strip()  # Remove trailing newline characters\n",
        "\n",
        "# Example usage:\n",
        "# Assuming \"example.txt\" is a text file in the same directory\n",
        "for line in read_file_line_by_line(\"example.txt\"):\n",
        "    print(line)"
      ],
      "metadata": {
        "colab": {
          "base_uri": "https://localhost:8080/"
        },
        "id": "wWr2Mg3TudfP",
        "outputId": "c8f46894-81b4-4038-aa2d-1538774dbe26"
      },
      "execution_count": 10,
      "outputs": [
        {
          "output_type": "stream",
          "name": "stdout",
          "text": [
            "This is the first line.\n",
            "This is the second line.\n",
            "And a third one.\n"
          ]
        }
      ]
    },
    {
      "cell_type": "markdown",
      "source": [
        "# Q8. Use a lambda function in Python to sort a list of tuples based on the second element of each tuple"
      ],
      "metadata": {
        "id": "5t7HAzz4u3qt"
      }
    },
    {
      "cell_type": "code",
      "source": [
        "# Sample list of tuples\n",
        "data = [(1, 3), (4, 1), (2, 5), (3, 2)]\n",
        "\n",
        "# Sort by second element using lambda\n",
        "sorted_data = sorted(data, key=lambda x: x[1])\n",
        "\n",
        "# Output the result\n",
        "print(sorted_data)\n"
      ],
      "metadata": {
        "colab": {
          "base_uri": "https://localhost:8080/"
        },
        "id": "ut50Qs0fuoc6",
        "outputId": "2c008460-9b33-406e-fff0-60d5a3933af3"
      },
      "execution_count": 11,
      "outputs": [
        {
          "output_type": "stream",
          "name": "stdout",
          "text": [
            "[(4, 1), (3, 2), (1, 3), (2, 5)]\n"
          ]
        }
      ]
    },
    {
      "cell_type": "markdown",
      "source": [
        "# Q9. Write a Python program that uses `map()` to convert a list of temperatures from Celsius to Fahrenheit"
      ],
      "metadata": {
        "id": "StfvR-dRvHr3"
      }
    },
    {
      "cell_type": "code",
      "source": [
        "# List of temperatures in Celsius\n",
        "celsius = [0, 20, 37, 100]\n",
        "\n",
        "# Convert to Fahrenheit using map and lambda\n",
        "fahrenheit = list(map(lambda c: (c * 9/5) + 32, celsius))\n",
        "\n",
        "# Output the result\n",
        "print(\"Fahrenheit:\", fahrenheit)\n"
      ],
      "metadata": {
        "colab": {
          "base_uri": "https://localhost:8080/"
        },
        "id": "YDKLvKnQvGtV",
        "outputId": "5116c732-91a1-4154-f010-037ba125051f"
      },
      "execution_count": 12,
      "outputs": [
        {
          "output_type": "stream",
          "name": "stdout",
          "text": [
            "Fahrenheit: [32.0, 68.0, 98.6, 212.0]\n"
          ]
        }
      ]
    },
    {
      "cell_type": "markdown",
      "source": [
        "# Q10.Create a Python program that uses `filter()` to remove all the vowels from a given string"
      ],
      "metadata": {
        "id": "s51QRrQ9vUo6"
      }
    },
    {
      "cell_type": "code",
      "source": [
        "def remove_vowels(s):\n",
        "    vowels = \"aeiouAEIOU\"\n",
        "    return ''.join(filter(lambda char: char not in vowels, s))\n",
        "\n",
        "# Example usage\n",
        "input_str = \"Hello, World!\"\n",
        "result = remove_vowels(input_str)\n",
        "print(\"String without vowels:\", result)\n"
      ],
      "metadata": {
        "colab": {
          "base_uri": "https://localhost:8080/"
        },
        "id": "wzIP1j1pvTVY",
        "outputId": "6dcf809a-5666-44f4-ed03-e3846d9d0403"
      },
      "execution_count": 13,
      "outputs": [
        {
          "output_type": "stream",
          "name": "stdout",
          "text": [
            "String without vowels: Hll, Wrld!\n"
          ]
        }
      ]
    },
    {
      "cell_type": "markdown",
      "source": [
        "# Imagine an accounting routine used in a book shop. It works on a list with sublists, which look like the"
      ],
      "metadata": {
        "id": "28795e45wRjF"
      }
    },
    {
      "cell_type": "code",
      "source": [
        "def process_orders(orders):\n",
        "    result = []\n",
        "    for order in orders:\n",
        "        order_number, quantity, price = order\n",
        "        total = quantity * price\n",
        "        if total < 100:\n",
        "            total += 10  # Add €10 for small orders\n",
        "        result.append((order_number, total))\n",
        "    return result\n",
        "\n",
        "# Example usage:\n",
        "orders = [\n",
        "    [101, 2, 20.0],   # Total = 40.0 → add 10 → 50.0\n",
        "    [102, 5, 25.0],   # Total = 125.0 → no addition\n",
        "    [103, 1, 50.0],   # Total = 50.0 → add 10 → 60.0\n",
        "]\n",
        "\n",
        "final_result = process_orders(orders)\n",
        "print(final_result)\n"
      ],
      "metadata": {
        "colab": {
          "base_uri": "https://localhost:8080/"
        },
        "id": "krPuY8zFvep4",
        "outputId": "d335f99e-c3e4-4a66-dc1b-c6955d39ce37"
      },
      "execution_count": 14,
      "outputs": [
        {
          "output_type": "stream",
          "name": "stdout",
          "text": [
            "[(101, 50.0), (102, 125.0), (103, 60.0)]\n"
          ]
        }
      ]
    },
    {
      "cell_type": "markdown",
      "source": [
        "# Q12.Write a Python program using lambda and map."
      ],
      "metadata": {
        "id": "9B-ED3fiwd9W"
      }
    },
    {
      "cell_type": "code",
      "source": [
        "# List of numbers\n",
        "numbers = [1, 2, 3, 4, 5]\n",
        "\n",
        "# Use map and lambda to double each number\n",
        "doubled = list(map(lambda x: x * 2, numbers))\n",
        "\n",
        "# Print the result\n",
        "print(\"Doubled numbers:\", doubled)\n"
      ],
      "metadata": {
        "colab": {
          "base_uri": "https://localhost:8080/"
        },
        "id": "xpARNLjPwcsP",
        "outputId": "730e550e-f1b3-497c-b07c-29aab843c8bb"
      },
      "execution_count": 15,
      "outputs": [
        {
          "output_type": "stream",
          "name": "stdout",
          "text": [
            "Doubled numbers: [2, 4, 6, 8, 10]\n"
          ]
        }
      ]
    },
    {
      "cell_type": "code",
      "source": [],
      "metadata": {
        "id": "jHD9S3A6wm5A"
      },
      "execution_count": null,
      "outputs": []
    }
  ]
}